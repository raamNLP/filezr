{
 "cells": [
  {
   "cell_type": "code",
   "execution_count": 1,
   "id": "4001730c",
   "metadata": {},
   "outputs": [
    {
     "name": "stdout",
     "output_type": "stream",
     "text": [
      "Enter file path: D:\\test\\url.txt\n",
      "['http://scope-abstraction.s3.amazonaws.com/TS_SOURCE/2021/17052021/fmicb.2021.685343.zip\\n', 'http://scope-abstraction.s3.amazonaws.com/TS_SOURCE/2021/17052021/fphys.2021.691824.zip\\n', 'http://scope-abstraction.s3.amazonaws.com/TS_SOURCE/2021/17052021/fpls.2021.671355.zip\\n', 'http://scope-abstraction.s3.amazonaws.com/TS_SOURCE/2021/17052021/fpsyg.2021.690980.zip\\n', 'http://scope-abstraction.s3.amazonaws.com/TS_SOURCE/2021/17052021/fpsyg.2021.691752.zip']\n",
      "100% [..........................................................................] 1617288 / 1617288Download completed successfully - Python\n",
      "Enter folder path: D:\\test\n",
      "Unzipped files in the folder\n",
      "Enter folder path: D:\\test\n",
      "Successfully renamed files - PyThOn\n",
      "Enter folder path: D;\n",
      "meta file renamed sucessfully - pYtHoN\n",
      "Enter folder path: D:\\test\n",
      "Files moved to Bookin Folder\n"
     ]
    }
   ],
   "source": [
    "%run downld1.py\n",
    "%run unzip1.py\n",
    "%run rename.py\n",
    "%run reml.py\n",
    "%run bookin.py"
   ]
  },
  {
   "cell_type": "code",
   "execution_count": null,
   "id": "2de7354c",
   "metadata": {},
   "outputs": [],
   "source": []
  }
 ],
 "metadata": {
  "kernelspec": {
   "display_name": "Python 3",
   "language": "python",
   "name": "python3"
  },
  "language_info": {
   "codemirror_mode": {
    "name": "ipython",
    "version": 3
   },
   "file_extension": ".py",
   "mimetype": "text/x-python",
   "name": "python",
   "nbconvert_exporter": "python",
   "pygments_lexer": "ipython3",
   "version": "3.9.4"
  }
 },
 "nbformat": 4,
 "nbformat_minor": 5
}
